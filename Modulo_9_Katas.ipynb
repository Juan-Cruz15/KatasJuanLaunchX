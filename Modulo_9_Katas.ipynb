{
 "cells": [
  {
   "cell_type": "markdown",
   "metadata": {},
   "source": [
    "# Módulo 9 Katas\n",
    "_ _ _"
   ]
  },
  {
   "cell_type": "markdown",
   "metadata": {},
   "source": [
    "## Ejercicio: Uso de funciones en Python\n",
    "### Ejercicio 1: Trabajar con argumentos en funciones\n",
    "Los argumentos requeridos en las funciones se utilizan cuando las funciones necesitan que esos argumentos funcionen correctamente. En este ejercicio, construirás un informe de combustible que requiere información de varias ubicaciones de combustible en todo el cohete.\n",
    "\n",
    "Comienza por crear una función que necesite tres lecturas de combustible y devuelva un informe:\n",
    "\n",
    "    # Función para leer 3 tanques de combustible y muestre el promedio"
   ]
  },
  {
   "cell_type": "code",
   "execution_count": 15,
   "metadata": {},
   "outputs": [],
   "source": [
    "def generar_reporte(tanque_principal, tanque_secundario, tanque_terciario):\n",
    "    promedio_total = (tanque_principal + tanque_secundario + tanque_terciario)/3\n",
    "    return f\"\"\"Informe de Combustible:\n",
    "    \n",
    "    Promedio Total: {promedio_total}%\n",
    "    Tanque Principal: {tanque_principal}%\n",
    "    Tanque Secundario: {tanque_secundario}%\n",
    "    Tanque Terciario: {tanque_terciario}%\n",
    "    \"\"\""
   ]
  },
  {
   "cell_type": "markdown",
   "metadata": {},
   "source": [
    "Ahora que hemos definido la función de informes, vamos a comprobarlo. Para esta misión, los tanques no están llenos:\n",
    "\n",
    "    # Llamamos a la función que genera el reporte print(funcion(tanque1, tanque2, tanque3))"
   ]
  },
  {
   "cell_type": "code",
   "execution_count": 16,
   "metadata": {},
   "outputs": [
    {
     "name": "stdout",
     "output_type": "stream",
     "text": [
      "Informe de Combustible:\n",
      "    \n",
      "    Promedio Total: 78.33333333333333%\n",
      "    Tanque Principal: 80%\n",
      "    Tanque Secundario: 70%\n",
      "    Tanque Terciario: 85%\n",
      "    \n"
     ]
    }
   ],
   "source": [
    "print(generar_reporte(80, 70, 85))"
   ]
  },
  {
   "cell_type": "markdown",
   "metadata": {},
   "source": [
    "En lugar de simplemente crear el informe, la función también está calculando el promedio. Mejora la legibilidad extrayendo el cálculo promedio de la función en una nueva función para que el promedio se pueda hacer de forma independiente:\n",
    "\n",
    "    # Función promedio "
   ]
  },
  {
   "cell_type": "code",
   "execution_count": 8,
   "metadata": {},
   "outputs": [],
   "source": [
    "def promedio (valores):\n",
    "    Total = sum (valores)\n",
    "    numero_de_articulos = len (valores)\n",
    "    return Total / numero_de_articulos"
   ]
  },
  {
   "cell_type": "code",
   "execution_count": 9,
   "metadata": {},
   "outputs": [
    {
     "data": {
      "text/plain": [
       "82.0"
      ]
     },
     "execution_count": 9,
     "metadata": {},
     "output_type": "execute_result"
    }
   ],
   "source": [
    "promedio([80, 85, 81])"
   ]
  },
  {
   "cell_type": "markdown",
   "metadata": {},
   "source": [
    "Ahora actualiza la función de informes para llamando a la nueva función del promedio:\n",
    "\n",
    "    # Actualiza la función"
   ]
  },
  {
   "cell_type": "code",
   "execution_count": 12,
   "metadata": {},
   "outputs": [],
   "source": [
    "def generar_reporte (tanque_principal, tanque_secundario, tanque_terciario):\n",
    "    return f\"\"\"Informe de Combustible:\n",
    "    ............................\n",
    "    Promedio Total:{promedio([tanque_principal, tanque_secundario, tanque_terciario])}%\n",
    "    Tanque Principal:{tanque_principal}%\n",
    "    Tanque Secundario:{tanque_secundario}%\n",
    "    Tanque Terciario:{tanque_terciario}%\n",
    "    \"\"\""
   ]
  },
  {
   "cell_type": "code",
   "execution_count": 13,
   "metadata": {},
   "outputs": [
    {
     "name": "stdout",
     "output_type": "stream",
     "text": [
      "Informe de Combustible:\n",
      "    ............................\n",
      "    Promedio Total:78.0%\n",
      "    Tanque Principal:88%\n",
      "    Tanque Secundario:76%\n",
      "    Tanque Terciario:70%\n",
      "    \n"
     ]
    }
   ],
   "source": [
    "print(generar_reporte(88, 76, 70))"
   ]
  },
  {
   "cell_type": "markdown",
   "metadata": {},
   "source": [
    "## Ejercicio 2: Trabajo con argumentos de palabra clave\n",
    "### Ejercicio : Trabajar con argumentos de palabras clave en funciones\n",
    "En este ejercicio, construirás un informe de cohete que requiere varias piezas de información, como el tiempo hasta el destino, el combustible a la izquierda y el nombre del destino. Comienza por crear una función que creará un informe preciso de la misión:\n",
    "\n",
    "    # Función con un informe preciso de la misión. Considera hora de prelanzamiento, tiempo de vuelo, destino, tanque externo y tanque interno"
   ]
  },
  {
   "cell_type": "code",
   "execution_count": 14,
   "metadata": {},
   "outputs": [],
   "source": [
    "def Informe_de_Mision(hora_de_prelanzamiento, tiempo_de_vuelo, destino, tanque_externo, tanque_interno):\n",
    "    return f\"\"\" \n",
    "    Misión a {destino}\n",
    "    _________________________\n",
    "    Tiempo Total del Viaje: {hora_de_prelanzamiento + tiempo_de_vuelo} minutos\n",
    "    Combustible Total Restante: {tanque_interno + tanque_externo} galones\n",
    "    \"\"\""
   ]
  },
  {
   "cell_type": "code",
   "execution_count": 15,
   "metadata": {},
   "outputs": [
    {
     "name": "stdout",
     "output_type": "stream",
     "text": [
      " \n",
      "    Misión a Luna\n",
      "    _________________________\n",
      "    Tiempo Total del Viaje: 65 minutos\n",
      "    Combustible Total Restante: 500000 galones\n",
      "    \n"
     ]
    }
   ],
   "source": [
    "print(Informe_de_Mision(14, 51, \"Luna\", 200000, 300000))"
   ]
  },
  {
   "cell_type": "markdown",
   "metadata": {},
   "source": [
    "La función es problemática porque no se puede adaptar para minutos adicionales o tanques adicionales de combustible. Hazlo más flexible permitiendo cualquier número de pasos basados en el tiempo y cualquier número de tanques. En lugar de usar *args y **kwargs, aprovecha el hecho de que puedes usar cualquier nombre que desees. Asegurate que la función sea más legible mediante el uso de nombres de variables que están asociados con las entradas, como *minutes y **fuel_reservoirs:\n",
    "\n",
    "    # Escribe tu nueva función de reporte considerando lo anterior"
   ]
  },
  {
   "cell_type": "code",
   "execution_count": 16,
   "metadata": {},
   "outputs": [],
   "source": [
    "def Informe_de_Mision(destino, *minutos, **depositos_de_combustible):\n",
    "    return f\"\"\" \n",
    "    Misión a {destino}\n",
    "    _________________________\n",
    "    Tiempo Total del Viaje: {sum(minutos)} minutos\n",
    "    Combustible Total Restante: {sum(depositos_de_combustible.values())} galones\n",
    "    \"\"\""
   ]
  },
  {
   "cell_type": "code",
   "execution_count": 17,
   "metadata": {},
   "outputs": [
    {
     "name": "stdout",
     "output_type": "stream",
     "text": [
      " \n",
      "    Misión a Luna\n",
      "    _________________________\n",
      "    Tiempo Total del Viaje: 76 minutos\n",
      "    Combustible Total Restante: 500000 galones\n",
      "    \n"
     ]
    }
   ],
   "source": [
    "print(Informe_de_Mision(\"Luna\", 10, 15, 51, interno=300000, externo=200000))"
   ]
  },
  {
   "cell_type": "markdown",
   "metadata": {},
   "source": [
    "Debido a que el combustible que queda en los tanques es específico de cada tanque, actualiza la función para usar el nombre de cada tanque en el informe:\n",
    "\n",
    "    # Escribe tu nueva función"
   ]
  },
  {
   "cell_type": "code",
   "execution_count": 18,
   "metadata": {},
   "outputs": [],
   "source": [
    "def Informe_de_Mision(destino, *minutos, **depositos_de_combustible):\n",
    "    Informe_Principal = f\"\"\"\n",
    "    Misión a: {destino}\n",
    "    -----------------------\n",
    "    Tiempo Total del Viaje: {sum(minutos)} minutos\n",
    "    Combustible Total Restante: {sum(depositos_de_combustible.values())}\n",
    "    \"\"\"\n",
    "    for nombre_del_tanque, galones in depositos_de_combustible.items():\n",
    "        Informe_Principal += f\"{nombre_del_tanque} tanque --> {galones} quedan galones\\n\"\n",
    "    return Informe_Principal"
   ]
  },
  {
   "cell_type": "code",
   "execution_count": 19,
   "metadata": {},
   "outputs": [
    {
     "name": "stdout",
     "output_type": "stream",
     "text": [
      "\n",
      "    Misión a: Luna\n",
      "    -----------------------\n",
      "    Tiempo Total del Viaje: 74 minutos\n",
      "    Combustible Total Restante: 500000\n",
      "    interno tanque --> 300000 quedan galones\n",
      "externo tanque --> 200000 quedan galones\n",
      "\n"
     ]
    }
   ],
   "source": [
    "print(Informe_de_Mision(\"Luna\", 8, 11, 55, interno=300000, externo=200000))"
   ]
  }
 ],
 "metadata": {
  "interpreter": {
   "hash": "e07c8b033f338d9964b2b162cc8170e87f2394b6658c7a56a37a46b429d167d6"
  },
  "kernelspec": {
   "display_name": "Python 3.10.2 32-bit",
   "language": "python",
   "name": "python3"
  },
  "language_info": {
   "codemirror_mode": {
    "name": "ipython",
    "version": 3
   },
   "file_extension": ".py",
   "mimetype": "text/x-python",
   "name": "python",
   "nbconvert_exporter": "python",
   "pygments_lexer": "ipython3",
   "version": "3.10.2"
  },
  "orig_nbformat": 4
 },
 "nbformat": 4,
 "nbformat_minor": 2
} 
